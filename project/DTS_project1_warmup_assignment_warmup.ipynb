{
  "nbformat": 4,
  "nbformat_minor": 0,
  "metadata": {
    "colab": {
      "name": "DTS project assignment warmup.ipynb",
      "provenance": [],
      "collapsed_sections": [],
      "toc_visible": true,
      "authorship_tag": "ABX9TyPMBShResgxXo+evZ+Nxs8k",
      "include_colab_link": true
    },
    "kernelspec": {
      "name": "python3",
      "display_name": "Python 3"
    }
  },
  "cells": [
    {
      "cell_type": "markdown",
      "metadata": {
        "id": "view-in-github",
        "colab_type": "text"
      },
      "source": [
        "<a href=\"https://colab.research.google.com/github/sykrn/py-dts/blob/master/project/DTS_project1_warmup_assignment_warmup.ipynb\" target=\"_parent\"><img src=\"https://colab.research.google.com/assets/colab-badge.svg\" alt=\"Open In Colab\"/></a>"
      ]
    },
    {
      "cell_type": "markdown",
      "metadata": {
        "id": "9swpmvv_IFlg",
        "colab_type": "text"
      },
      "source": [
        "# string"
      ]
    },
    {
      "cell_type": "code",
      "metadata": {
        "id": "_bnHG70h11tS",
        "colab_type": "code",
        "outputId": "f8c3a163-4de7-4a6d-ffa4-7f73c653bb7f",
        "colab": {
          "base_uri": "https://localhost:8080/",
          "height": 34
        }
      },
      "source": [
        "# materi 30 menit terakhir di video\n",
        "# string itu imutable\n",
        "s='abc'\n",
        "print(s[0])\n",
        "\n"
      ],
      "execution_count": 0,
      "outputs": [
        {
          "output_type": "stream",
          "text": [
            "a\n"
          ],
          "name": "stdout"
        }
      ]
    },
    {
      "cell_type": "markdown",
      "metadata": {
        "id": "MuQJs_7oIhIb",
        "colab_type": "text"
      },
      "source": [
        "# Collection\n",
        "1. List\n",
        "2. Tuple\n",
        "3. Dictionary\n",
        "\n"
      ]
    },
    {
      "cell_type": "code",
      "metadata": {
        "id": "8M_YJckJIFVO",
        "colab_type": "code",
        "outputId": "be94e262-6f0d-43d2-9599-195888d43264",
        "colab": {
          "base_uri": "https://localhost:8080/",
          "height": 105
        }
      },
      "source": [
        "ls = [7,1,2,3,4,5]\n",
        "print(sum(ls))\n",
        "\n",
        "ls = ['asd','a7,1,2,3,4,5']\n",
        "print('sebelum di sort:',ls)\n",
        "print(ls[1]<ls[0])\n",
        "\n",
        "#ascending\n",
        "ls = sorted(ls)\n",
        "print('setelah di sort:',ls)\n",
        "\n",
        "ls2 = [1,3,4,2,5]\n",
        "#decending\n",
        "ls2 = sorted(ls2,reverse=True)\n",
        "print(ls2)\n",
        "\n",
        "\n"
      ],
      "execution_count": 0,
      "outputs": [
        {
          "output_type": "stream",
          "text": [
            "22\n",
            "sebelum di sort: ['asd', 'a7,1,2,3,4,5']\n",
            "True\n",
            "setelah di sort: ['a7,1,2,3,4,5', 'asd']\n",
            "[5, 4, 3, 2, 1]\n"
          ],
          "name": "stdout"
        }
      ]
    },
    {
      "cell_type": "code",
      "metadata": {
        "id": "pE4zH6V8KVsQ",
        "colab_type": "code",
        "outputId": "4fbc59ff-4488-4516-a07e-e5e797114d7c",
        "colab": {
          "base_uri": "https://localhost:8080/",
          "height": 34
        }
      },
      "source": [
        "# list comprehension\n",
        "\n",
        "ls3 = [[ii,ii**2] for ii in range(10) if ii % 2==0]\n",
        "print(tuple(ls3))"
      ],
      "execution_count": 0,
      "outputs": [
        {
          "output_type": "stream",
          "text": [
            "([0, 0], [2, 4], [4, 16], [6, 36], [8, 64])\n"
          ],
          "name": "stdout"
        }
      ]
    },
    {
      "cell_type": "code",
      "metadata": {
        "id": "ASMrNnhDLggU",
        "colab_type": "code",
        "outputId": "880a533f-777d-4ef9-ea4a-0fbcf2824a35",
        "colab": {
          "base_uri": "https://localhost:8080/",
          "height": 52
        }
      },
      "source": [
        "# Dictiorany \n",
        "dc = {'a':2,'b':3}\n",
        "print(dc['b'])\n",
        "\n",
        "print(dc.get('a','gak ada bos'))\n"
      ],
      "execution_count": 0,
      "outputs": [
        {
          "output_type": "stream",
          "text": [
            "3\n",
            "2\n"
          ],
          "name": "stdout"
        }
      ]
    },
    {
      "cell_type": "code",
      "metadata": {
        "id": "rxa1fAkvMYiy",
        "colab_type": "code",
        "outputId": "4893430f-40a6-4c5f-f4cf-e0269c9ad898",
        "colab": {
          "base_uri": "https://localhost:8080/",
          "height": 52
        }
      },
      "source": [
        "# function\n",
        "\n",
        "#positional argument\n",
        "def func(a,b,c):\n",
        "  pass\n",
        "\n",
        "print(func(1,2,3))\n",
        "\n",
        "#keyword argument\n",
        "def func2(a,b,c,d=4,e=2,f=100):\n",
        "  print(a,b,c,d,e,f)\n",
        "  pass\n",
        "\n",
        "func2(1,2,3,10,f=200)"
      ],
      "execution_count": 0,
      "outputs": [
        {
          "output_type": "stream",
          "text": [
            "None\n",
            "1 2 3 10 2 200\n"
          ],
          "name": "stdout"
        }
      ]
    }
  ]
}